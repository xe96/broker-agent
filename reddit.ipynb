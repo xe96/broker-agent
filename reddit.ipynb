{
 "cells": [
  {
   "cell_type": "code",
   "execution_count": 1,
   "metadata": {
    "colab": {
     "base_uri": "https://localhost:8080/"
    },
    "executionInfo": {
     "elapsed": 12411,
     "status": "ok",
     "timestamp": 1756183440671,
     "user": {
      "displayName": "Ivan Xu",
      "userId": "11512086590217727926"
     },
     "user_tz": 420
    },
    "id": "688A3_8Tr53c",
    "outputId": "fd5ae380-e3a9-4226-a519-5a730782e491"
   },
   "outputs": [
    {
     "name": "stdout",
     "output_type": "stream",
     "text": [
      "Collecting tweepy\n",
      "  Downloading tweepy-4.16.0-py3-none-any.whl.metadata (3.3 kB)\n",
      "Collecting praw\n",
      "  Downloading praw-7.8.1-py3-none-any.whl.metadata (9.4 kB)\n",
      "Collecting python-dotenv\n",
      "  Downloading python_dotenv-1.1.1-py3-none-any.whl.metadata (24 kB)\n",
      "Collecting vaderSentiment\n",
      "  Downloading vaderSentiment-3.3.2-py2.py3-none-any.whl.metadata (572 bytes)\n",
      "Collecting oauthlib<4,>=3.2.0 (from tweepy)\n",
      "  Downloading oauthlib-3.3.1-py3-none-any.whl.metadata (7.9 kB)\n",
      "Collecting requests<3,>=2.27.0 (from tweepy)\n",
      "  Downloading requests-2.32.5-py3-none-any.whl.metadata (4.9 kB)\n",
      "Collecting requests-oauthlib<3,>=1.2.0 (from tweepy)\n",
      "  Downloading requests_oauthlib-2.0.0-py2.py3-none-any.whl.metadata (11 kB)\n",
      "Collecting charset_normalizer<4,>=2 (from requests<3,>=2.27.0->tweepy)\n",
      "  Downloading charset_normalizer-3.4.3-cp313-cp313-macosx_10_13_universal2.whl.metadata (36 kB)\n",
      "Collecting idna<4,>=2.5 (from requests<3,>=2.27.0->tweepy)\n",
      "  Downloading idna-3.10-py3-none-any.whl.metadata (10 kB)\n",
      "Collecting urllib3<3,>=1.21.1 (from requests<3,>=2.27.0->tweepy)\n",
      "  Downloading urllib3-2.5.0-py3-none-any.whl.metadata (6.5 kB)\n",
      "Collecting certifi>=2017.4.17 (from requests<3,>=2.27.0->tweepy)\n",
      "  Downloading certifi-2025.8.3-py3-none-any.whl.metadata (2.4 kB)\n",
      "Collecting prawcore<3,>=2.4 (from praw)\n",
      "  Downloading prawcore-2.4.0-py3-none-any.whl.metadata (5.0 kB)\n",
      "Collecting update_checker>=0.18 (from praw)\n",
      "  Downloading update_checker-0.18.0-py3-none-any.whl.metadata (2.3 kB)\n",
      "Collecting websocket-client>=0.54.0 (from praw)\n",
      "  Downloading websocket_client-1.8.0-py3-none-any.whl.metadata (8.0 kB)\n",
      "Downloading tweepy-4.16.0-py3-none-any.whl (98 kB)\n",
      "Downloading oauthlib-3.3.1-py3-none-any.whl (160 kB)\n",
      "Downloading requests-2.32.5-py3-none-any.whl (64 kB)\n",
      "Downloading charset_normalizer-3.4.3-cp313-cp313-macosx_10_13_universal2.whl (205 kB)\n",
      "Downloading idna-3.10-py3-none-any.whl (70 kB)\n",
      "Downloading requests_oauthlib-2.0.0-py2.py3-none-any.whl (24 kB)\n",
      "Downloading urllib3-2.5.0-py3-none-any.whl (129 kB)\n",
      "Downloading praw-7.8.1-py3-none-any.whl (189 kB)\n",
      "Downloading prawcore-2.4.0-py3-none-any.whl (17 kB)\n",
      "Downloading python_dotenv-1.1.1-py3-none-any.whl (20 kB)\n",
      "Downloading vaderSentiment-3.3.2-py2.py3-none-any.whl (125 kB)\n",
      "Downloading certifi-2025.8.3-py3-none-any.whl (161 kB)\n",
      "Downloading update_checker-0.18.0-py3-none-any.whl (7.0 kB)\n",
      "Downloading websocket_client-1.8.0-py3-none-any.whl (58 kB)\n",
      "Installing collected packages: websocket-client, urllib3, python-dotenv, oauthlib, idna, charset_normalizer, certifi, requests, vaderSentiment, update_checker, requests-oauthlib, prawcore, tweepy, praw\n",
      "\u001b[2K   \u001b[90m━━━━━━━━━━━━━━━━━━━━━━━━━━━━━━━━━━━━━━━━\u001b[0m \u001b[32m14/14\u001b[0m [praw]2m13/14\u001b[0m [praw]sts-oauthlib]\n",
      "\u001b[1A\u001b[2KSuccessfully installed certifi-2025.8.3 charset_normalizer-3.4.3 idna-3.10 oauthlib-3.3.1 praw-7.8.1 prawcore-2.4.0 python-dotenv-1.1.1 requests-2.32.5 requests-oauthlib-2.0.0 tweepy-4.16.0 update_checker-0.18.0 urllib3-2.5.0 vaderSentiment-3.3.2 websocket-client-1.8.0\n",
      "Note: you may need to restart the kernel to use updated packages.\n"
     ]
    }
   ],
   "source": [
    "pip install tweepy praw python-dotenv vaderSentiment"
   ]
  },
  {
   "cell_type": "code",
   "execution_count": 3,
   "metadata": {},
   "outputs": [],
   "source": [
    "import os\n",
    "import tweepy\n",
    "import praw\n",
    "from dotenv import load_dotenv\n",
    "from vaderSentiment.vaderSentiment import SentimentIntensityAnalyzer        "
   ]
  },
  {
   "cell_type": "code",
   "execution_count": 4,
   "metadata": {
    "id": "d4jA2Q3quMbK"
   },
   "outputs": [],
   "source": [
    "os.environ[\"REDDIT_CLIENT_ID\"] = \"w8vAFuTjHB6TWiaB-5muLw\"\n",
    "os.environ[\"REDDIT_CLIENT_SECRET\"] = \"Wlalndnv58IvLGef453qYI8JUVT0iw\"\n",
    "os.environ[\"REDDIT_USER_AGENT\"]='sentiment-demo/0.1 by ivan'"
   ]
  },
  {
   "cell_type": "code",
   "execution_count": 5,
   "metadata": {
    "colab": {
     "base_uri": "https://localhost:8080/"
    },
    "executionInfo": {
     "elapsed": 856,
     "status": "ok",
     "timestamp": 1756184315517,
     "user": {
      "displayName": "Ivan Xu",
      "userId": "11512086590217727926"
     },
     "user_tz": 420
    },
    "id": "cF83h0qRsFHo",
    "outputId": "0eee00c2-3704-48de-be2f-a8fb9b36f155"
   },
   "outputs": [
    {
     "name": "stdout",
     "output_type": "stream",
     "text": [
      "Read-only: True\n",
      "Sunday Daily Thread: What's everyone working on this week?\n",
      "OK ✅\n"
     ]
    }
   ],
   "source": [
    "reddit = praw.Reddit(\n",
    "    client_id=os.environ[\"REDDIT_CLIENT_ID\"],\n",
    "    client_secret=os.environ[\"REDDIT_CLIENT_SECRET\"],\n",
    "    user_agent=os.environ[\"REDDIT_USER_AGENT\"],\n",
    ")\n",
    "reddit.read_only = True\n",
    "\n",
    "# 3) Sanity check: a very simple call\n",
    "try:\n",
    "    print(\"Read-only:\", reddit.read_only)\n",
    "    it = reddit.subreddit(\"python\").hot(limit=1)\n",
    "    print(next(it).title)\n",
    "    print(\"OK ✅\")\n",
    "except Exception as e:\n",
    "    print(\"Failed ❌ ->\", type(e).__name__, e)"
   ]
  },
  {
   "cell_type": "code",
   "execution_count": 6,
   "metadata": {
    "colab": {
     "base_uri": "https://localhost:8080/"
    },
    "executionInfo": {
     "elapsed": 331,
     "status": "ok",
     "timestamp": 1756184372362,
     "user": {
      "displayName": "Ivan Xu",
      "userId": "11512086590217727926"
     },
     "user_tz": 420
    },
    "id": "rS28Z3bRuoha",
    "outputId": "c0883bb3-fc16-439b-d28c-0feef022a3f0"
   },
   "outputs": [
    {
     "name": "stdout",
     "output_type": "stream",
     "text": [
      "Fetched 25 posts\n",
      "[{'id': '1n21zmh', 'title': 'after Nvidia’s Q2 earnings, is growth slowing or just market overreaction?', 'score': 1, 'created_utc': 1756352588.0, 'url': 'https://www.reddit.com/r/stocks/comments/1n21zmh/after_nvidias_q2_earnings_is_growth_slowing_or/', 'num_comments': 21, 'selftext': 'After Nvidia released its Q2 earnings, the stock fell by up to 5%. While the earnings themselves were still strong and even exceeded some expectations, the market seems to be more cautious about the future, raising the bar for performance. Does this reaction indicate that Nvidia’s growth is slowing down, or is it just a short-term market sentiment? In this situation, would you still choose to hold a large position in Nvidia, or consider adjusting your holdings to manage risk?'}, {'id': '1n1y5cm', 'title': 'Nvidia CEO Huang says bringing Blackwell AI chip to China ‘is a real possibility’', 'score': 127, 'created_utc': 1756341447.0, 'url': 'https://www.reddit.com/r/stocks/comments/1n1y5cm/nvidia_ceo_huang_says_bringing_blackwell_ai_chip/', 'num_comments': 36, 'selftext': 'Nvidia\\xa0CEO Jensen Huang said there’s a “real possibility” the company brings its advanced Blackwell processor to China as he urges the U.S. government to open up access for American chipmakers.\\n\\nHe also predicted the artificial intelligence market in the world’s second-biggest economy will grow 50% next year.\\n\\n“The opportunity for us to bring Blackwell to the China market is a real possibility,” Huang said on Wednesday in a call for Nvidia’s latest quarterly\\xa0results. “We just have to keep advoca'}]\n"
     ]
    }
   ],
   "source": [
    "sub = reddit.subreddit(\"stocks\")   # choose any subreddit\n",
    "\n",
    "# Top N new posts matching a keyword\n",
    "results = []\n",
    "for post in sub.search(query=\"nvidia\", sort=\"new\", limit=25):\n",
    "    results.append({\n",
    "        \"id\": post.id,\n",
    "        \"title\": post.title,\n",
    "        \"score\": post.score,\n",
    "        \"created_utc\": post.created_utc,\n",
    "        \"url\": post.url,\n",
    "        \"num_comments\": post.num_comments,\n",
    "        \"selftext\": post.selftext[:500],  # preview\n",
    "    })\n",
    "\n",
    "print(f\"Fetched {len(results)} posts\")\n",
    "print(results[:2])"
   ]
  },
  {
   "cell_type": "code",
   "execution_count": 7,
   "metadata": {
    "colab": {
     "base_uri": "https://localhost:8080/"
    },
    "executionInfo": {
     "elapsed": 434,
     "status": "ok",
     "timestamp": 1756184389783,
     "user": {
      "displayName": "Ivan Xu",
      "userId": "11512086590217727926"
     },
     "user_tz": 420
    },
    "id": "lSWsM58mvuLP",
    "outputId": "5056504c-9c40-4d01-ae2a-a45a7a91ccba"
   },
   "outputs": [
    {
     "name": "stdout",
     "output_type": "stream",
     "text": [
      "Collected 21 comments\n",
      "['56% up year over year. Definitely not slowing down.', 'This is the perfect time to buy an actual dip\\n\\nIf they’re start selling in China officially - that’s another $50B in revenue a year', \"Doesn't sound you like you paid attention to the guidance or earnings call. \\n\\nQ2 & Q3 Guidance includes $0 for H20\\n\\nWhen China opens back up, Nvidia will go up\"]\n"
     ]
    }
   ],
   "source": [
    "if results:\n",
    "    post = reddit.submission(id=results[0][\"id\"])\n",
    "    post.comments.replace_more(limit=0)  # flatten \"MoreComments\"\n",
    "    comments = [c.body for c in post.comments.list()[:50]]  # first 50\n",
    "    print(f\"Collected {len(comments)} comments\")\n",
    "    print(comments[:3])"
   ]
  },
  {
   "cell_type": "code",
   "execution_count": 8,
   "metadata": {
    "colab": {
     "base_uri": "https://localhost:8080/"
    },
    "executionInfo": {
     "elapsed": 51,
     "status": "ok",
     "timestamp": 1756184401191,
     "user": {
      "displayName": "Ivan Xu",
      "userId": "11512086590217727926"
     },
     "user_tz": 420
    },
    "id": "Zo1PGd7tvyaE",
    "outputId": "a5662b79-77a4-4af5-d4f4-996a7090139c"
   },
   "outputs": [
    {
     "name": "stdout",
     "output_type": "stream",
     "text": [
      "[{'text': '56% up year over year. Definitely not slowing down....', 'sentiment': 0.4019}, {'text': 'This is the perfect time to buy an actual dip\\n\\nIf they’re start selling in China officially - that’s another $50B in rev...', 'sentiment': 0.5719}, {'text': \"Doesn't sound you like you paid attention to the guidance or earnings call. \\n\\nQ2 & Q3 Guidance includes $0 for H20\\n\\nWhen...\", 'sentiment': -0.2755}]\n"
     ]
    }
   ],
   "source": [
    "from vaderSentiment.vaderSentiment import SentimentIntensityAnalyzer\n",
    "\n",
    "analyzer = SentimentIntensityAnalyzer()\n",
    "\n",
    "def score(text):\n",
    "    s = analyzer.polarity_scores(text)\n",
    "    return s[\"compound\"]  # -1 (neg) .. +1 (pos)\n",
    "\n",
    "# Example: score tweets\n",
    "if 'all_rows' in globals() and all_rows:\n",
    "    for r in all_rows[:10]:\n",
    "        r[\"sentiment\"] = score(r[\"text\"])\n",
    "    print(all_rows[:3])\n",
    "\n",
    "# Example: score reddit comments\n",
    "if 'comments' in globals() and comments:\n",
    "    scored = [{\"text\": c[:120]+\"...\", \"sentiment\": score(c)} for c in comments[:10]]\n",
    "    print(scored[:3])"
   ]
  },
  {
   "cell_type": "code",
   "execution_count": null,
   "metadata": {
    "id": "AXwbe_mDv1SM"
   },
   "outputs": [],
   "source": []
  }
 ],
 "metadata": {
  "colab": {
   "authorship_tag": "ABX9TyPX4I2Ro4O4/F8pE/5A89Ev",
   "provenance": []
  },
  "kernelspec": {
   "display_name": "Python 3",
   "name": "python3"
  },
  "language_info": {
   "codemirror_mode": {
    "name": "ipython",
    "version": 3
   },
   "file_extension": ".py",
   "mimetype": "text/x-python",
   "name": "python",
   "nbconvert_exporter": "python",
   "pygments_lexer": "ipython3",
   "version": "3.13.7"
  }
 },
 "nbformat": 4,
 "nbformat_minor": 0
}
